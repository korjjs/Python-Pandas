{
  "nbformat": 4,
  "nbformat_minor": 0,
  "metadata": {
    "colab": {
      "name": "Untitled0.ipynb",
      "provenance": [],
      "authorship_tag": "ABX9TyMKTnungIoPfUbJMnBlO1Mh",
      "include_colab_link": true
    },
    "kernelspec": {
      "name": "python3",
      "display_name": "Python 3"
    }
  },
  "cells": [
    {
      "cell_type": "markdown",
      "metadata": {
        "id": "view-in-github",
        "colab_type": "text"
      },
      "source": [
        "<a href=\"https://colab.research.google.com/github/korjjs/Python-Pandas/blob/master/random%20%EB%AA%A8%EB%93%88%20%EC%A0%95%EB%A6%AC.ipynb\" target=\"_parent\"><img src=\"https://colab.research.google.com/assets/colab-badge.svg\" alt=\"Open In Colab\"/></a>"
      ]
    },
    {
      "cell_type": "markdown",
      "metadata": {
        "id": "WxG0paPzLVgj",
        "colab_type": "text"
      },
      "source": [
        "#numpy 의 np.random. randint vs rand/randn\n",
        "\n",
        "##np.random.seed seed를 통한 난수 생성\n",
        "\n",
        "---\n",
        "np.random.randint 균일 분포의 정수 난수 1개 생성\n",
        "\n",
        "np.random.rand 0부터 1사이의 균일 분포에서 난수 matrix array생성\n",
        "\n",
        "np.random.randn 가우시안 표준 정규 분포에서 난수 matrix array생성\n",
        "\n",
        "---\n",
        "\n",
        "np.random.shuffle 기존의 데이터의 순서 바꾸기\n",
        "\n",
        "np.random.choice 기존의 데이터에서 sampling\n",
        "\n",
        "np.unique 데이터에서 중복된 값을 제거하고 중복되지 않는 값의 리스트를 출력\n",
        "\n",
        "np.bincount 발생하지 않은 사건에 대해서도 카운트를 해준다.\n"
      ]
    },
    {
      "cell_type": "code",
      "metadata": {
        "id": "QMv6TwgbLUMJ",
        "colab_type": "code",
        "colab": {}
      },
      "source": [
        "import numpy as np"
      ],
      "execution_count": 0,
      "outputs": []
    },
    {
      "cell_type": "markdown",
      "metadata": {
        "id": "Cb9BiC8pL6J1",
        "colab_type": "text"
      },
      "source": [
        "## random.randint 와 np.random.randint \n",
        "### : 모두 (시작, n-1) 사이의 랜덤숫자 1개 뽑아내기"
      ]
    },
    {
      "cell_type": "code",
      "metadata": {
        "id": "rMe5WyXGL5vr",
        "colab_type": "code",
        "colab": {
          "base_uri": "https://localhost:8080/",
          "height": 35
        },
        "outputId": "d92f270c-f832-4b60-f3da-7490ca427b0e"
      },
      "source": [
        "np.random.randint(6) # 0 or 1 or ~ or 5      0부터 5까지 랜덤한 숫자 1개"
      ],
      "execution_count": 2,
      "outputs": [
        {
          "output_type": "execute_result",
          "data": {
            "text/plain": [
              "5"
            ]
          },
          "metadata": {
            "tags": []
          },
          "execution_count": 2
        }
      ]
    },
    {
      "cell_type": "code",
      "metadata": {
        "id": "dllM2XniMD0L",
        "colab_type": "code",
        "colab": {
          "base_uri": "https://localhost:8080/",
          "height": 35
        },
        "outputId": "fbd8b842-3308-4961-c3e1-e03eae861312"
      },
      "source": [
        "np.random.randint(1, 20) # 1부터 19까지 랜덤숫자 1개"
      ],
      "execution_count": 3,
      "outputs": [
        {
          "output_type": "execute_result",
          "data": {
            "text/plain": [
              "8"
            ]
          },
          "metadata": {
            "tags": []
          },
          "execution_count": 3
        }
      ]
    },
    {
      "cell_type": "markdown",
      "metadata": {
        "id": "4IYRoEpHMG5c",
        "colab_type": "text"
      },
      "source": [
        "## np.random.rand(m,n) \n",
        "###: 0 ~ 1의 균일분포 표준정규분포 난수를 matrix array(m,n) 생성"
      ]
    },
    {
      "cell_type": "code",
      "metadata": {
        "id": "Qr3kZTzsMKR4",
        "colab_type": "code",
        "colab": {
          "base_uri": "https://localhost:8080/",
          "height": 53
        },
        "outputId": "245ac123-b523-49f6-f17e-df7e788a4e3b"
      },
      "source": [
        "np.random.rand(6)  "
      ],
      "execution_count": 4,
      "outputs": [
        {
          "output_type": "execute_result",
          "data": {
            "text/plain": [
              "array([0.06762508, 0.51578957, 0.55626709, 0.17185406, 0.3935646 ,\n",
              "       0.10256136])"
            ]
          },
          "metadata": {
            "tags": []
          },
          "execution_count": 4
        }
      ]
    },
    {
      "cell_type": "code",
      "metadata": {
        "id": "wKRj19-2MLav",
        "colab_type": "code",
        "colab": {
          "base_uri": "https://localhost:8080/",
          "height": 71
        },
        "outputId": "c2731576-8924-41b9-9018-ce6040738dd3"
      },
      "source": [
        "np.random.rand(3,2)"
      ],
      "execution_count": 5,
      "outputs": [
        {
          "output_type": "execute_result",
          "data": {
            "text/plain": [
              "array([[0.02580374, 0.34257134],\n",
              "       [0.71942744, 0.78492265],\n",
              "       [0.0311088 , 0.06141104]])"
            ]
          },
          "metadata": {
            "tags": []
          },
          "execution_count": 5
        }
      ]
    },
    {
      "cell_type": "markdown",
      "metadata": {
        "id": "myQxS1AoMPVE",
        "colab_type": "text"
      },
      "source": [
        "## np.random.randn(m,n) \n",
        "### : 평균0, 표준편차1의 가우시안 표준정규분포 난수를 matrix array(m,n) 생성"
      ]
    },
    {
      "cell_type": "code",
      "metadata": {
        "id": "7kcHifrtMMgd",
        "colab_type": "code",
        "colab": {
          "base_uri": "https://localhost:8080/",
          "height": 53
        },
        "outputId": "15ed9901-5fac-48a4-f5b1-668661902f15"
      },
      "source": [
        "np.random.randn(6)"
      ],
      "execution_count": 6,
      "outputs": [
        {
          "output_type": "execute_result",
          "data": {
            "text/plain": [
              "array([-1.14244088, -1.13458799, -0.34788101,  0.42586245, -1.10542334,\n",
              "        1.47779753])"
            ]
          },
          "metadata": {
            "tags": []
          },
          "execution_count": 6
        }
      ]
    },
    {
      "cell_type": "code",
      "metadata": {
        "id": "HeAT8g_fMOyx",
        "colab_type": "code",
        "colab": {
          "base_uri": "https://localhost:8080/",
          "height": 71
        },
        "outputId": "18529be4-fc39-41ec-97a0-167e0212e7d6"
      },
      "source": [
        "np.random.randn(3, 2)"
      ],
      "execution_count": 7,
      "outputs": [
        {
          "output_type": "execute_result",
          "data": {
            "text/plain": [
              "array([[ 0.52231252,  0.04329461],\n",
              "       [ 0.77415906, -0.0631387 ],\n",
              "       [ 0.88495981,  0.76615918]])"
            ]
          },
          "metadata": {
            "tags": []
          },
          "execution_count": 7
        }
      ]
    }
  ]
}